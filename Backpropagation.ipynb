{
  "nbformat": 4,
  "nbformat_minor": 0,
  "metadata": {
    "colab": {
      "provenance": [],
      "authorship_tag": "ABX9TyNDJ4ijmwiPLBXdv4UKSEc8",
      "include_colab_link": true
    },
    "kernelspec": {
      "name": "python3",
      "display_name": "Python 3"
    },
    "language_info": {
      "name": "python"
    }
  },
  "cells": [
    {
      "cell_type": "markdown",
      "metadata": {
        "id": "view-in-github",
        "colab_type": "text"
      },
      "source": [
        "<a href=\"https://colab.research.google.com/github/Harshcs21/1BM21CS073_ML_lab/blob/main/Backpropagation.ipynb\" target=\"_parent\"><img src=\"https://colab.research.google.com/assets/colab-badge.svg\" alt=\"Open In Colab\"/></a>"
      ]
    },
    {
      "cell_type": "code",
      "execution_count": 1,
      "metadata": {
        "colab": {
          "base_uri": "https://localhost:8080/"
        },
        "id": "6TFUHWJ04eCF",
        "outputId": "3f49a059-e9cc-44e5-a613-0318c517d3cf"
      },
      "outputs": [
        {
          "output_type": "stream",
          "name": "stdout",
          "text": [
            "Epoch 0, Loss:0.27464677774699536\n",
            "Epoch 4000, Loss:0.007581868337942686\n",
            "Epoch 8000, Loss:0.002423001703124975\n",
            "Predictions after training:\n",
            "[[0.03880939]\n",
            " [0.95944268]\n",
            " [0.95465187]\n",
            " [0.04336319]]\n"
          ]
        }
      ],
      "source": [
        "import numpy as np\n",
        "\n",
        "class NeuralNetwork:\n",
        "\tdef __init__(self, input_size, hidden_size, output_size):\n",
        "\t\tself.input_size = input_size\n",
        "\t\tself.hidden_size = hidden_size\n",
        "\t\tself.output_size = output_size\n",
        "\n",
        "\t\t# Initialize weights\n",
        "\t\tself.weights_input_hidden = np.random.randn(self.input_size, self.hidden_size)\n",
        "\t\tself.weights_hidden_output = np.random.randn(self.hidden_size, self.output_size)\n",
        "\n",
        "\t\t# Initialize the biases\n",
        "\t\tself.bias_hidden = np.zeros((1, self.hidden_size))\n",
        "\t\tself.bias_output = np.zeros((1, self.output_size))\n",
        "\n",
        "\tdef sigmoid(self, x):\n",
        "\t\treturn 1 / (1 + np.exp(-x))\n",
        "\n",
        "\tdef sigmoid_derivative(self, x):\n",
        "\t\treturn x * (1 - x)\n",
        "\n",
        "\tdef feedforward(self, X):\n",
        "\t\t# Input to hidden\n",
        "\t\tself.hidden_activation = np.dot(X, self.weights_input_hidden) + self.bias_hidden\n",
        "\t\tself.hidden_output = self.sigmoid(self.hidden_activation)\n",
        "\n",
        "\t\t# Hidden to output\n",
        "\t\tself.output_activation = np.dot(self.hidden_output, self.weights_hidden_output) + self.bias_output\n",
        "\t\tself.predicted_output = self.sigmoid(self.output_activation)\n",
        "\n",
        "\t\treturn self.predicted_output\n",
        "\n",
        "\tdef backward(self, X, y, learning_rate):\n",
        "\t\t# Compute the output layer error\n",
        "\t\toutput_error = y - self.predicted_output\n",
        "\t\toutput_delta = output_error * self.sigmoid_derivative(self.predicted_output)\n",
        "\n",
        "\t\t# Compute the hidden layer error\n",
        "\t\thidden_error = np.dot(output_delta, self.weights_hidden_output.T)\n",
        "\t\thidden_delta = hidden_error * self.sigmoid_derivative(self.hidden_output)\n",
        "\n",
        "\t\t# Update weights and biases\n",
        "\t\tself.weights_hidden_output += np.dot(self.hidden_output.T, output_delta) * learning_rate\n",
        "\t\tself.bias_output += np.sum(output_delta, axis=0, keepdims=True) * learning_rate\n",
        "\t\tself.weights_input_hidden += np.dot(X.T, hidden_delta) * learning_rate\n",
        "\t\tself.bias_hidden += np.sum(hidden_delta, axis=0, keepdims=True) * learning_rate\n",
        "\n",
        "\tdef train(self, X, y, epochs, learning_rate):\n",
        "\t\tfor epoch in range(epochs):\n",
        "\t\t\toutput = self.feedforward(X)\n",
        "\t\t\tself.backward(X, y, learning_rate)\n",
        "\t\t\tif epoch % 4000 == 0:\n",
        "\t\t\t\tloss = np.mean(np.square(y - output))\n",
        "\t\t\t\tprint(f\"Epoch {epoch}, Loss:{loss}\")\n",
        "\n",
        "X = np.array([[0, 0], [0, 1], [1, 0], [1, 1]])\n",
        "y = np.array([[0], [1], [1], [0]])\n",
        "\n",
        "nn = NeuralNetwork(input_size=2, hidden_size=4, output_size=1)\n",
        "nn.train(X, y, epochs=10000, learning_rate=0.1)\n",
        "\n",
        "# Test the trained model\n",
        "output = nn.feedforward(X)\n",
        "print(\"Predictions after training:\")\n",
        "print(output)\n"
      ]
    }
  ]
}